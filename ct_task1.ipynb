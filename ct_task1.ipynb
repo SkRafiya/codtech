{
  "nbformat": 4,
  "nbformat_minor": 0,
  "metadata": {
    "colab": {
      "provenance": [],
      "authorship_tag": "ABX9TyOe0lTUqq4ROaO5wdx4ckap",
      "include_colab_link": true
    },
    "kernelspec": {
      "name": "python3",
      "display_name": "Python 3"
    },
    "language_info": {
      "name": "python"
    }
  },
  "cells": [
    {
      "cell_type": "markdown",
      "metadata": {
        "id": "view-in-github",
        "colab_type": "text"
      },
      "source": [
        "<a href=\"https://colab.research.google.com/github/SkRafiya/codtech/blob/main/ct_task1.ipynb\" target=\"_parent\"><img src=\"https://colab.research.google.com/assets/colab-badge.svg\" alt=\"Open In Colab\"/></a>"
      ]
    },
    {
      "cell_type": "code",
      "execution_count": null,
      "metadata": {
        "colab": {
          "base_uri": "https://localhost:8080/"
        },
        "id": "WKLFYLQjYi1Y",
        "outputId": "6b5bff64-39bd-4527-8a8f-f92142dcb91f"
      },
      "outputs": [
        {
          "output_type": "stream",
          "name": "stdout",
          "text": [
            "\u001b[2K     \u001b[90m━━━━━━━━━━━━━━━━━━━━━━━━━━━━━━━━━━━━━━━━\u001b[0m \u001b[32m44.3/44.3 kB\u001b[0m \u001b[31m2.4 MB/s\u001b[0m eta \u001b[36m0:00:00\u001b[0m\n",
            "\u001b[2K   \u001b[90m━━━━━━━━━━━━━━━━━━━━━━━━━━━━━━━━━━━━━━━━\u001b[0m \u001b[32m9.9/9.9 MB\u001b[0m \u001b[31m78.9 MB/s\u001b[0m eta \u001b[36m0:00:00\u001b[0m\n",
            "\u001b[2K   \u001b[90m━━━━━━━━━━━━━━━━━━━━━━━━━━━━━━━━━━━━━━━━\u001b[0m \u001b[32m6.9/6.9 MB\u001b[0m \u001b[31m88.7 MB/s\u001b[0m eta \u001b[36m0:00:00\u001b[0m\n",
            "\u001b[2K   \u001b[90m━━━━━━━━━━━━━━━━━━━━━━━━━━━━━━━━━━━━━━━━\u001b[0m \u001b[32m79.1/79.1 kB\u001b[0m \u001b[31m6.9 MB/s\u001b[0m eta \u001b[36m0:00:00\u001b[0m\n",
            "\u001b[2K   \u001b[90m━━━━━━━━━━━━━━━━━━━━━━━━━━━━━━━━━━━━━━━━\u001b[0m \u001b[32m244.3/244.3 kB\u001b[0m \u001b[31m6.3 MB/s\u001b[0m eta \u001b[36m0:00:00\u001b[0m\n",
            "\u001b[?25h  Preparing metadata (setup.py) ... \u001b[?25l\u001b[?25hdone\n",
            "  Building wheel for fpdf (setup.py) ... \u001b[?25l\u001b[?25hdone\n"
          ]
        }
      ],
      "source": [
        "!pip install -q transformers\n",
        "!pip install -q streamlit\n",
        "!pip install -q pyngrok\n",
        "!pip install -q python-docx\n",
        "!pip install -q fpdf\n"
      ]
    },
    {
      "cell_type": "code",
      "source": [
        "!ngrok config add-authtoken 2wolCnFjxVCLxw4gjQrrM7gtvfg_7yv2hkfxMm2bg2QPUUDuM\n"
      ],
      "metadata": {
        "colab": {
          "base_uri": "https://localhost:8080/"
        },
        "id": "mlDyc1oDYkML",
        "outputId": "a8b65ea8-bcf0-498e-b0e6-c1f8bd07ad22"
      },
      "execution_count": null,
      "outputs": [
        {
          "output_type": "stream",
          "name": "stdout",
          "text": [
            "Authtoken saved to configuration file: /root/.config/ngrok/ngrok.yml\n"
          ]
        }
      ]
    },
    {
      "cell_type": "code",
      "source": [
        "%%writefile app.py\n",
        "import streamlit as st\n",
        "from transformers import pipeline\n",
        "from fpdf import FPDF\n",
        "from docx import Document\n",
        "\n",
        "# Load summarizer model\n",
        "summarizer = pipeline(\"summarization\", model=\"Falconsai/text_summarization\")\n",
        "\n",
        "# Streamlit app design\n",
        "st.set_page_config(page_title=\"Text Summarizer\", page_icon=\"📝\")\n",
        "\n",
        "st.title(\"📝 Text Summarization Tool\")\n",
        "st.write(\"Upload a file OR paste your text below 👇\")\n",
        "\n",
        "# File uploader\n",
        "uploaded_file = st.file_uploader(\"Upload a .txt file\", type=[\"txt\"])\n",
        "\n",
        "# Text input\n",
        "input_text = st.text_area(\"Or paste your text here:\", height=300)\n",
        "\n",
        "# Read uploaded file\n",
        "if uploaded_file is not None:\n",
        "    input_text = uploaded_file.read().decode(\"utf-8\")\n",
        "\n",
        "# Summarize Button\n",
        "if st.button(\"Summarize\"):\n",
        "    if input_text.strip() == \"\":\n",
        "        st.warning(\"Please upload a file or paste some text!\")\n",
        "    else:\n",
        "        with st.spinner(\"Summarizing...\"):\n",
        "            summary = summarizer(input_text, max_length=150, min_length=40, do_sample=False)[0]['summary_text']\n",
        "        st.success(\"Summary generated!\")\n",
        "        st.subheader(\"📋 Your Summary:\")\n",
        "        st.write(summary)\n",
        "\n",
        "        # Download as PDF\n",
        "        pdf = FPDF()\n",
        "        pdf.add_page()\n",
        "        pdf.set_font(\"Arial\", size=12)\n",
        "        pdf.multi_cell(0, 10, summary)\n",
        "        pdf.output(\"/content/summary.pdf\")\n",
        "\n",
        "        # Download as DOCX\n",
        "        doc = Document()\n",
        "        doc.add_heading('Summary', 0)\n",
        "        doc.add_paragraph(summary)\n",
        "        doc.save(\"/content/summary.docx\")\n",
        "\n",
        "        # Download buttons\n",
        "        st.download_button(label=\"📄 Download as PDF\", data=open(\"/content/summary.pdf\", \"rb\"), file_name=\"summary.pdf\")\n",
        "        st.download_button(label=\"📝 Download as Word\", data=open(\"/content/summary.docx\", \"rb\"), file_name=\"summary.docx\")\n"
      ],
      "metadata": {
        "colab": {
          "base_uri": "https://localhost:8080/"
        },
        "id": "9bMAqQeHYkOS",
        "outputId": "4975b1c0-5c17-4c83-d354-007ce6ba01f9"
      },
      "execution_count": null,
      "outputs": [
        {
          "output_type": "stream",
          "name": "stdout",
          "text": [
            "Overwriting app.py\n"
          ]
        }
      ]
    },
    {
      "cell_type": "code",
      "source": [
        "import threading\n",
        "import time\n",
        "import streamlit.web.bootstrap\n",
        "\n",
        "def run():\n",
        "    !streamlit run /content/app.py\n",
        "\n",
        "thread = threading.Thread(target=run)\n",
        "thread.start()\n",
        "\n",
        "time.sleep(5)\n",
        "\n",
        "from pyngrok import ngrok\n",
        "public_url = ngrok.connect(8501)\n",
        "print(f\"🌍 Public URL for the app: {public_url}\")\n"
      ],
      "metadata": {
        "colab": {
          "base_uri": "https://localhost:8080/"
        },
        "id": "jsyOR2pNYkQb",
        "outputId": "23c1593b-ed8d-409c-dacf-770131c0b0c0"
      },
      "execution_count": null,
      "outputs": [
        {
          "output_type": "stream",
          "name": "stdout",
          "text": [
            "\n",
            "Collecting usage statistics. To deactivate, set browser.gatherUsageStats to false.\n",
            "\u001b[0m\n",
            "\u001b[0m\n",
            "\u001b[34m\u001b[1m  You can now view your Streamlit app in your browser.\u001b[0m\n",
            "\u001b[0m\n",
            "\u001b[34m  Local URL: \u001b[0m\u001b[1mhttp://localhost:8501\u001b[0m\n",
            "\u001b[34m  Network URL: \u001b[0m\u001b[1mhttp://172.28.0.12:8501\u001b[0m\n",
            "\u001b[34m  External URL: \u001b[0m\u001b[1mhttp://34.16.192.241:8501\u001b[0m\n",
            "\u001b[0m\n",
            "🌍 Public URL for the app: NgrokTunnel: \"https://056f-34-16-192-241.ngrok-free.app\" -> \"http://localhost:8501\"\n"
          ]
        }
      ]
    },
    {
      "cell_type": "code",
      "source": [],
      "metadata": {
        "id": "dpYEG7-fYkSX"
      },
      "execution_count": null,
      "outputs": []
    },
    {
      "cell_type": "code",
      "source": [],
      "metadata": {
        "id": "IL7Si3FNYkVs"
      },
      "execution_count": null,
      "outputs": []
    }
  ]
}